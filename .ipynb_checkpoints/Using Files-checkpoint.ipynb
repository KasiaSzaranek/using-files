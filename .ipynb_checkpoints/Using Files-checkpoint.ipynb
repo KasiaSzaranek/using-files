{
 "cells": [
  {
   "cell_type": "markdown",
   "metadata": {},
   "source": [
    "# Using files"
   ]
  },
  {
   "cell_type": "markdown",
   "metadata": {},
   "source": [
    "### Open the file and print all the words in uppercase"
   ]
  },
  {
   "cell_type": "code",
   "execution_count": null,
   "metadata": {},
   "outputs": [],
   "source": [
    "with open(\"textFile.txt\", \"r\") as file:\n",
    "    for line in file:\n",
    "        print(line.upper())"
   ]
  },
  {
   "cell_type": "markdown",
   "metadata": {},
   "source": [
    "### Open the file and print the length of the each word on a new line"
   ]
  },
  {
   "cell_type": "code",
   "execution_count": null,
   "metadata": {},
   "outputs": [],
   "source": [
    "with open(\"textFile.txt\", \"r\") as file:\n",
    "    for line in file:\n",
    "        lenght = len(line)\n",
    "        lenght = lenght -1\n",
    "        print(line.upper(),\"\\n\",lenght,\"\\n\")"
   ]
  },
  {
   "cell_type": "markdown",
   "metadata": {},
   "source": [
    "### Open the file and print the word backwards"
   ]
  },
  {
   "cell_type": "code",
   "execution_count": null,
   "metadata": {},
   "outputs": [],
   "source": [
    "with open(\"textFile.txt\", \"r\") as file:\n",
    "    for line in file:\n",
    "        print(line.upper()[::-1])"
   ]
  },
  {
   "cell_type": "markdown",
   "metadata": {},
   "source": [
    "### Open the file and print the vowels of each word, use stars ( * ) for the consonants"
   ]
  },
  {
   "cell_type": "code",
   "execution_count": null,
   "metadata": {},
   "outputs": [],
   "source": [
    "vowels = ('a', 'e', 'i', 'o', 'u')\n",
    "\n",
    "with open(\"textFile.txt\", \"r\") as file:\n",
    "    \n",
    "    for line in file:\n",
    "        \n",
    "        #print(line)\n",
    "        \n",
    "        for letters in line:\n",
    "            \n",
    "            if letters.lower() in vowels:\n",
    "                \n",
    "                line = line.replace(letters,\"*\")\n",
    "                \n",
    "                print (line.lower())"
   ]
  },
  {
   "cell_type": "markdown",
   "metadata": {},
   "source": [
    "### Open the file and print the scrabble score of each word (scrabble score rules on next page)"
   ]
  },
  {
   "cell_type": "code",
   "execution_count": 7,
   "metadata": {},
   "outputs": [],
   "source": [
    "dict = { \"a\": 1, \"c\": 4, \"b\": 4, \"e\": 1, \"d\": 2, \"g\": 3, \n",
    "         \"f\": 4, \"i\": 1, \"h\": 4, \"k\": 5, \"j\": 10, \"m\": 4, \n",
    "         \"l\": 2, \"o\": 1, \"n\": 1, \"q\": 10, \"p\": 4, \"s\": 1, \n",
    "         \"r\": 1, \"u\": 2, \"t\": 1, \"w\": 4, \"v\": 5, \"y\": 3, \n",
    "         \"x\": 8, \"z\": 10, \" \": 10}\n",
    "  \n",
    "f = open(\"scrabble.txt\",\"w\")\n",
    "f.write(str(dict) )\n",
    "f.close()\n",
    "        "
   ]
  }
 ],
 "metadata": {
  "kernelspec": {
   "display_name": "Python 3",
   "language": "python",
   "name": "python3"
  },
  "language_info": {
   "codemirror_mode": {
    "name": "ipython",
    "version": 3
   },
   "file_extension": ".py",
   "mimetype": "text/x-python",
   "name": "python",
   "nbconvert_exporter": "python",
   "pygments_lexer": "ipython3",
   "version": "3.5.2"
  }
 },
 "nbformat": 4,
 "nbformat_minor": 2
}
